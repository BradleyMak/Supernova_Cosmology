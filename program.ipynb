{
 "cells": [
  {
   "cell_type": "markdown",
   "metadata": {},
   "source": [
    "CONSTANTS"
   ]
  },
  {
   "cell_type": "code",
   "execution_count": 53,
   "metadata": {},
   "outputs": [],
   "source": [
    "H_0 = 75 #km/s/Mpc\n",
    "m_0 = -20.45"
   ]
  },
  {
   "cell_type": "markdown",
   "metadata": {},
   "source": [
    "FUNCTIONS"
   ]
  },
  {
   "cell_type": "code",
   "execution_count": 54,
   "metadata": {},
   "outputs": [],
   "source": [
    "import numpy as np\n",
    "import matplotlib.pyplot as plt\n",
    "import functions\n",
    "\n",
    "#function to read data from txt file\n",
    "def read_data(filename):\n",
    "    global name, redshift, eff_peak_mag, mag_err\n",
    "    alldata = np.loadtxt(filename, dtype='str', comments='#')\n",
    "    name = alldata[:, 0]\n",
    "    redshift = np.array(alldata[:, 1], dtype = float)\n",
    "    eff_peak_mag = np.array(alldata[:, 2], dtype = float)\n",
    "    mag_err = np.array(alldata[:, 3], dtype = float)\n",
    "\n",
    "#function to calculate peak flux from effective peak magnitudes (and the respective errors)\n",
    "def get_flux(eff_peak_mag, mag_err):\n",
    "    global peak_flux, peak_flux_err\n",
    "    peak_flux = 10**(0.4*(m_0-eff_peak_mag))\n",
    "    peak_flux_err = 10**(0.4*(m_0-(eff_peak_mag+mag_err)))-peak_flux\n",
    "\n",
    "#function to calculate the comoving distance for a given redshift\n",
    "def get_comoving_distance(redshift):\n",
    "    global comoving_distance\n",
    "    comoving_distance = 3*10**8*redshift/H_0 #in Mpc\n",
    "\n",
    "#function to calculate the peak luminosity, and its respective error, from peak flux and redshift.\n",
    "def get_peak_luminosity(comoving_distance, redshift, peak_flux, peak_flux_err):\n",
    "    global L_peak, L_peak_err\n",
    "    L_peak = peak_flux*4*np.pi*(1+redshift)**2*comoving_distance**2\n",
    "    L_peak_err = (peak_flux+peak_flux_err)*4*np.pi*(1+redshift)**2*comoving_distance**2 - L_peak\n",
    "\n",
    "#function to calculate the luminosity distance and its error from peak luminosity and flux.\n",
    "def get_luminosity_distance(L_peak, L_peak_err, peak_flux, peak_flux_err):\n",
    "    global d_L, d_L_err\n",
    "    d_L = np.sqrt(L_peak/(4*np.pi*peak_flux))\n",
    "    d_L_err = d_L*np.sqrt((L_peak_err/L_peak)**2+(peak_flux_err/peak_flux)**2)\n"
   ]
  },
  {
   "cell_type": "markdown",
   "metadata": {},
   "source": [
    "Investigate relationship between luminosity distance and redshift\n",
    "\n",
    "_NOTE: We expect a  roughly linear relationship between distance and redshift, known as Hubble’s Law. However, if we extend the measurement to more distant objects, the relation becomes curved, and strongly dependent on the matter content of the Universe._"
   ]
  },
  {
   "cell_type": "code",
   "execution_count": 55,
   "metadata": {},
   "outputs": [
    {
     "ename": "TypeError",
     "evalue": "get_comoving_distance() takes 1 positional argument but 2 were given",
     "output_type": "error",
     "traceback": [
      "\u001b[1;31m---------------------------------------------------------------------------\u001b[0m",
      "\u001b[1;31mTypeError\u001b[0m                                 Traceback (most recent call last)",
      "\u001b[1;32mc:\\Users\\bradl\\.vscode\\computing_project\\Supernova_Cosmology\\program.ipynb Cell 6\u001b[0m line \u001b[0;36m6\n\u001b[0;32m      <a href='vscode-notebook-cell:/c%3A/Users/bradl/.vscode/computing_project/Supernova_Cosmology/program.ipynb#W4sZmlsZQ%3D%3D?line=3'>4</a>\u001b[0m \u001b[39m#z < 0.1 data\u001b[39;00m\n\u001b[0;32m      <a href='vscode-notebook-cell:/c%3A/Users/bradl/.vscode/computing_project/Supernova_Cosmology/program.ipynb#W4sZmlsZQ%3D%3D?line=4'>5</a>\u001b[0m low_redshift_indices \u001b[39m=\u001b[39m np\u001b[39m.\u001b[39mwhere(redshift\u001b[39m<\u001b[39m\u001b[39m0.1\u001b[39m)[\u001b[39m0\u001b[39m]\n\u001b[1;32m----> <a href='vscode-notebook-cell:/c%3A/Users/bradl/.vscode/computing_project/Supernova_Cosmology/program.ipynb#W4sZmlsZQ%3D%3D?line=5'>6</a>\u001b[0m functions\u001b[39m.\u001b[39;49mget_comoving_distance(redshift[low_redshift_indices[\u001b[39m0\u001b[39;49m]:low_redshift_indices[\u001b[39m-\u001b[39;49m\u001b[39m1\u001b[39;49m]], H_0)\n\u001b[0;32m      <a href='vscode-notebook-cell:/c%3A/Users/bradl/.vscode/computing_project/Supernova_Cosmology/program.ipynb#W4sZmlsZQ%3D%3D?line=6'>7</a>\u001b[0m functions\u001b[39m.\u001b[39mget_flux(eff_peak_mag, mag_err, m_0)\n\u001b[0;32m      <a href='vscode-notebook-cell:/c%3A/Users/bradl/.vscode/computing_project/Supernova_Cosmology/program.ipynb#W4sZmlsZQ%3D%3D?line=7'>8</a>\u001b[0m functions\u001b[39m.\u001b[39mget_peak_luminosity(comoving_distance, redshift[low_redshift_indices[\u001b[39m0\u001b[39m]:low_redshift_indices[\u001b[39m-\u001b[39m\u001b[39m1\u001b[39m]],  peak_flux[low_redshift_indices[\u001b[39m0\u001b[39m]:low_redshift_indices[\u001b[39m-\u001b[39m\u001b[39m1\u001b[39m]], peak_flux_err[low_redshift_indices[\u001b[39m0\u001b[39m]:low_redshift_indices[\u001b[39m-\u001b[39m\u001b[39m1\u001b[39m]])\n",
      "\u001b[1;31mTypeError\u001b[0m: get_comoving_distance() takes 1 positional argument but 2 were given"
     ]
    }
   ],
   "source": [
    "#reads data\n",
    "read_data('sn_data.txt')\n",
    "\n",
    "#z < 0.1 data\n",
    "low_redshift_indices = np.where(redshift<0.1)[0]\n",
    "functions.get_comoving_distance(redshift[low_redshift_indices[0]:low_redshift_indices[-1]], H_0)\n",
    "functions.get_flux(eff_peak_mag, mag_err, m_0)\n",
    "functions.get_peak_luminosity(comoving_distance, redshift[low_redshift_indices[0]:low_redshift_indices[-1]],  peak_flux[low_redshift_indices[0]:low_redshift_indices[-1]], peak_flux_err[low_redshift_indices[0]:low_redshift_indices[-1]])\n",
    "functions.get_luminosity_distance(L_peak, L_peak_err, peak_flux[low_redshift_indices[0]:low_redshift_indices[-1]], peak_flux_err[low_redshift_indices[0]:low_redshift_indices[-1]])\n",
    "\n",
    "plt.scatter(d_L/1000, redshift[low_redshift_indices[0]:low_redshift_indices[-1]])\n",
    "plt.xlabel('Luminosity distance $d_L$ [Mpc]', weight = 'bold', fontsize = 12)\n",
    "plt.ylabel('Redshift $z$', weight = 'bold', fontsize = 12)"
   ]
  },
  {
   "cell_type": "code",
   "execution_count": null,
   "metadata": {},
   "outputs": [],
   "source": []
  }
 ],
 "metadata": {
  "kernelspec": {
   "display_name": "Python 3",
   "language": "python",
   "name": "python3"
  },
  "language_info": {
   "codemirror_mode": {
    "name": "ipython",
    "version": 3
   },
   "file_extension": ".py",
   "mimetype": "text/x-python",
   "name": "python",
   "nbconvert_exporter": "python",
   "pygments_lexer": "ipython3",
   "version": "3.8.2"
  },
  "orig_nbformat": 4
 },
 "nbformat": 4,
 "nbformat_minor": 2
}
