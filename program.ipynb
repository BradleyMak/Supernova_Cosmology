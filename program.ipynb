{
 "cells": [
  {
   "cell_type": "markdown",
   "metadata": {},
   "source": [
    "CONSTANTS"
   ]
  },
  {
   "cell_type": "code",
   "execution_count": 2,
   "metadata": {},
   "outputs": [],
   "source": [
    "H_0 = 75 #km/s/Mpc\n",
    "m_0 = -20.45\n",
    "\n",
    "#change"
   ]
  },
  {
   "cell_type": "code",
   "execution_count": 14,
   "metadata": {},
   "outputs": [],
   "source": [
    "import numpy as np\n",
    "\n",
    "#function to read data from txt file\n",
    "def read_data(filename):\n",
    "    global name, redshift, eff_peak_mag, mag_err\n",
    "    alldata = np.loadtxt(filename, dtype='str', comments='#')\n",
    "    name = alldata[:, 0]\n",
    "    redshift = np.array(alldata[:, 1], dtype = float)\n",
    "    eff_peak_mag = np.array(alldata[:, 2], dtype = float)\n",
    "    mag_err = np.array(alldata[:, 3], dtype = float)\n",
    "\n",
    "def get_flux(eff_peak_mag, mag_err):\n",
    "    global peak_flux, peak_flux_err\n",
    "    peak_flux = 10**(0.4*(m_0-eff_peak_mag))\n",
    "    peak_flux_err = 10**(0.4*(m_0-(eff_peak_mag+mag_err)))-peak_flux\n",
    "\n",
    "def get_comoving_distance(redshift):\n",
    "    comoving_distance = 3*10**8*redshift/H_0 #in Mpc\n",
    "\n"
   ]
  },
  {
   "cell_type": "markdown",
   "metadata": {},
   "source": []
  },
  {
   "cell_type": "code",
   "execution_count": 17,
   "metadata": {},
   "outputs": [
    {
     "data": {
      "text/plain": [
       "(array([42, 43, 44, 45, 46, 47, 49, 50, 51, 52, 53, 54, 55, 56, 57, 58, 59],\n",
       "       dtype=int64),)"
      ]
     },
     "execution_count": 17,
     "metadata": {},
     "output_type": "execute_result"
    }
   ],
   "source": [
    "read_data('sn_data.txt')\n",
    "\n",
    "#z < 0.1 data\n",
    "low_redshift_indices = np.where(redshift<0.1)\n",
    "get_comoving_distance(redshift)\n"
   ]
  },
  {
   "cell_type": "code",
   "execution_count": null,
   "metadata": {},
   "outputs": [],
   "source": []
  }
 ],
 "metadata": {
  "kernelspec": {
   "display_name": "Python 3",
   "language": "python",
   "name": "python3"
  },
  "language_info": {
   "codemirror_mode": {
    "name": "ipython",
    "version": 3
   },
   "file_extension": ".py",
   "mimetype": "text/x-python",
   "name": "python",
   "nbconvert_exporter": "python",
   "pygments_lexer": "ipython3",
   "version": "3.8.2"
  },
  "orig_nbformat": 4
 },
 "nbformat": 4,
 "nbformat_minor": 2
}
